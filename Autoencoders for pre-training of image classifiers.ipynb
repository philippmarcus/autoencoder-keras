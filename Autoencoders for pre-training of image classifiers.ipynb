{
 "cells": [
  {
   "cell_type": "markdown",
   "metadata": {},
   "source": [
    "# Deep AutoEncoders as Pre-Training for Image Classifiers\n",
    "\n",
    "This network demonstrates the usage of a deep autoencoder for pre-training of an image classifier. The reduction of trraining time and the quality of the results are compared."
   ]
  },
  {
   "cell_type": "code",
   "execution_count": 3,
   "metadata": {},
   "outputs": [],
   "source": [
    "import tensorflow as tf\n",
    "from tensorflow import keras\n",
    "from tensorflow.keras import layers\n",
    "\n",
    "import pandas as pd\n",
    "import numpy as np\n",
    "\n",
    "from sklearn.model_selection import train_test_split\n",
    "from sklearn.datasets import fetch_openml"
   ]
  },
  {
   "cell_type": "markdown",
   "metadata": {},
   "source": [
    "## Load the MNIST Dataset"
   ]
  },
  {
   "cell_type": "code",
   "execution_count": 12,
   "metadata": {},
   "outputs": [],
   "source": [
    "data = fetch_openml('mnist_784', data_home='./data/mnist/')"
   ]
  },
  {
   "cell_type": "code",
   "execution_count": 83,
   "metadata": {},
   "outputs": [
    {
     "name": "stdout",
     "output_type": "stream",
     "text": [
      "Loaded overall 70000 images with 784 features per image.\n"
     ]
    }
   ],
   "source": [
    "X = data['data']\n",
    "y = data['target']\n",
    "\n",
    "print(\"Loaded overall {} images with {} features per image.\".format(X.shape[0], X.shape[1]))"
   ]
  },
  {
   "cell_type": "markdown",
   "metadata": {},
   "source": [
    "## Prepare the data\n",
    "\n",
    "The data is normalized by the maximum pixel value. This step could by using the Keras `ImageDataGenerator` class."
   ]
  },
  {
   "cell_type": "code",
   "execution_count": 84,
   "metadata": {},
   "outputs": [],
   "source": [
    "# Normalize the data\n",
    "X = X.astype('float32') / 255."
   ]
  },
  {
   "cell_type": "markdown",
   "metadata": {},
   "source": [
    "## Train/Test Split"
   ]
  },
  {
   "cell_type": "code",
   "execution_count": 85,
   "metadata": {},
   "outputs": [],
   "source": [
    "X_train, X_test, y_train, y_test = train_test_split(X, y, random_state=42)"
   ]
  },
  {
   "cell_type": "code",
   "execution_count": 87,
   "metadata": {},
   "outputs": [
    {
     "name": "stdout",
     "output_type": "stream",
     "text": [
      "Woring with 52500 training images and 17500 test images.\n"
     ]
    }
   ],
   "source": [
    "print(\"Woring with {} training images and {} test images.\".format(len(X_train), len(X_test)))"
   ]
  },
  {
   "cell_type": "markdown",
   "metadata": {},
   "source": [
    "## Deep Denoising Autoencoder\n",
    "\n",
    "In this section, first a deep denoising autoencoder is built and trained. A production model is initialized that does not add Gaussian noise and uses the weights derived during training of the first model."
   ]
  },
  {
   "cell_type": "markdown",
   "metadata": {},
   "source": [
    "\n",
    "### Define and train the deep denoising autoencoder"
   ]
  },
  {
   "cell_type": "code",
   "execution_count": 89,
   "metadata": {},
   "outputs": [],
   "source": [
    "def get_denoising_autoencoder(training=True):\n",
    "    \"\"\"\n",
    "    Returns a deep denoising autoencoder model.\n",
    "    INPUT:\n",
    "        training (boolean): if true, Gaussian noise is applied.\n",
    "    OUTPUT:\n",
    "        encoder: Keras model for the encoder\n",
    "        autoencoder: Keras model for the autoencoder\n",
    "    \"\"\"\n",
    "    n_inputs = 28 * 28 # MNIST\n",
    "    encoding_dim_1 = 300\n",
    "    encoding_dim_2 = 150\n",
    "    decoding_dim_1 = encoding_dim_2\n",
    "    decoding_dim_2 = encoding_dim_1\n",
    "\n",
    "    # Input layer\n",
    "    inputs = layers.Input(shape=(n_inputs,))\n",
    "\n",
    "    # Add a Gaussian Noise Layer\n",
    "    inputs_noisy = layers.GaussianNoise(stddev=0.1)(inputs, training=training)\n",
    "\n",
    "    # Build the Encoder\n",
    "    encoded_1 = layers.Dense(encoding_dim_1, activation='relu')(inputs_noisy) # 784 -> 300\n",
    "    encoded_2 = layers.Dense(encoding_dim_2, activation='relu')(encoded_1) # 300 -> 150\n",
    "\n",
    "    # Build the Decoder\n",
    "    decoded_1 = layers.Dense(encoding_dim_1, activation='relu')(encoded_2) # 150 -> 300\n",
    "    decoded_2 = layers.Dense(n_inputs, activation='relu')(decoded_1) # 300 -> 784\n",
    "\n",
    "    # Define the Models\n",
    "    autoencoder = keras.Model(inputs, decoded_2)\n",
    "    encoder = keras.Model(inputs, encoded_2)\n",
    "    \n",
    "    return encoder, autoencoder"
   ]
  },
  {
   "cell_type": "markdown",
   "metadata": {},
   "source": [
    "#### Create the autoencoder model for training"
   ]
  },
  {
   "cell_type": "code",
   "execution_count": 90,
   "metadata": {},
   "outputs": [],
   "source": [
    "encoder, autoencoder = get_denoising_autoencoder(training=True)"
   ]
  },
  {
   "cell_type": "code",
   "execution_count": 91,
   "metadata": {},
   "outputs": [
    {
     "name": "stdout",
     "output_type": "stream",
     "text": [
      "Model: \"model_8\"\n",
      "_________________________________________________________________\n",
      "Layer (type)                 Output Shape              Param #   \n",
      "=================================================================\n",
      "input_9 (InputLayer)         [(None, 784)]             0         \n",
      "_________________________________________________________________\n",
      "gaussian_noise_5 (GaussianNo (None, 784)               0         \n",
      "_________________________________________________________________\n",
      "dense_20 (Dense)             (None, 300)               235500    \n",
      "_________________________________________________________________\n",
      "dense_21 (Dense)             (None, 150)               45150     \n",
      "_________________________________________________________________\n",
      "dense_22 (Dense)             (None, 300)               45300     \n",
      "_________________________________________________________________\n",
      "dense_23 (Dense)             (None, 784)               235984    \n",
      "=================================================================\n",
      "Total params: 561,934\n",
      "Trainable params: 561,934\n",
      "Non-trainable params: 0\n",
      "_________________________________________________________________\n"
     ]
    }
   ],
   "source": [
    "autoencoder.summary()"
   ]
  },
  {
   "cell_type": "code",
   "execution_count": 34,
   "metadata": {},
   "outputs": [
    {
     "name": "stdout",
     "output_type": "stream",
     "text": [
      "Model: \"model_1\"\n",
      "_________________________________________________________________\n",
      "Layer (type)                 Output Shape              Param #   \n",
      "=================================================================\n",
      "input_5 (InputLayer)         [(None, 784)]             0         \n",
      "_________________________________________________________________\n",
      "gaussian_noise_1 (GaussianNo (None, 784)               0         \n",
      "_________________________________________________________________\n",
      "dense_4 (Dense)              (None, 300)               235500    \n",
      "_________________________________________________________________\n",
      "dense_5 (Dense)              (None, 150)               45150     \n",
      "=================================================================\n",
      "Total params: 280,650\n",
      "Trainable params: 280,650\n",
      "Non-trainable params: 0\n",
      "_________________________________________________________________\n"
     ]
    }
   ],
   "source": [
    "encoder.summary()"
   ]
  },
  {
   "cell_type": "code",
   "execution_count": 35,
   "metadata": {},
   "outputs": [],
   "source": [
    "# Compile the model\n",
    "\n",
    "opt = keras.optimizers.Adadelta(learning_rate=0.01)\n",
    "autoencoder.compile(optimizer='Adam',\n",
    "                      loss='MSE')"
   ]
  },
  {
   "cell_type": "code",
   "execution_count": 36,
   "metadata": {},
   "outputs": [
    {
     "name": "stdout",
     "output_type": "stream",
     "text": [
      "Train on 52500 samples, validate on 17500 samples\n",
      "Epoch 1/20\n",
      "52500/52500 [==============================] - 4s 84us/sample - loss: 0.0270 - val_loss: 0.0141\n",
      "Epoch 2/20\n",
      "52500/52500 [==============================] - 4s 70us/sample - loss: 0.0114 - val_loss: 0.0107\n",
      "Epoch 3/20\n",
      "52500/52500 [==============================] - 4s 73us/sample - loss: 0.0096 - val_loss: 0.0097\n",
      "Epoch 4/20\n",
      "52500/52500 [==============================] - 4s 73us/sample - loss: 0.0087 - val_loss: 0.0091\n",
      "Epoch 5/20\n",
      "52500/52500 [==============================] - 4s 74us/sample - loss: 0.0083 - val_loss: 0.0085\n",
      "Epoch 6/20\n",
      "52500/52500 [==============================] - 4s 75us/sample - loss: 0.0080 - val_loss: 0.0086\n",
      "Epoch 7/20\n",
      "52500/52500 [==============================] - 4s 75us/sample - loss: 0.0077 - val_loss: 0.0079\n",
      "Epoch 8/20\n",
      "52500/52500 [==============================] - 4s 78us/sample - loss: 0.0075 - val_loss: 0.0079\n",
      "Epoch 9/20\n",
      "52500/52500 [==============================] - 4s 76us/sample - loss: 0.0074 - val_loss: 0.0079\n",
      "Epoch 10/20\n",
      "52500/52500 [==============================] - 4s 78us/sample - loss: 0.0073 - val_loss: 0.0075\n",
      "Epoch 11/20\n",
      "52500/52500 [==============================] - 4s 78us/sample - loss: 0.0072 - val_loss: 0.0077\n",
      "Epoch 12/20\n",
      "52500/52500 [==============================] - 4s 80us/sample - loss: 0.0071 - val_loss: 0.0078\n"
     ]
    }
   ],
   "source": [
    "# Early stopping\n",
    "es = keras.callbacks.EarlyStopping(monitor='val_loss',\n",
    "                                  min_delta=0,\n",
    "                                  patience=2,\n",
    "                                  verbose=0, mode='auto')\n",
    "\n",
    "# Train the model\n",
    "history = autoencoder.fit(X_train,\n",
    "                    X_train,\n",
    "                    validation_data=(X_test, X_test),\n",
    "                    callbacks=[es],\n",
    "                    shuffle=True,\n",
    "                    epochs=20,\n",
    "                    batch_size=256)"
   ]
  },
  {
   "cell_type": "code",
   "execution_count": 103,
   "metadata": {},
   "outputs": [
    {
     "data": {
      "image/png": "[encoded data removed]",
      "text/plain": [
       "<Figure size 432x288 with 1 Axes>"
      ]
     },
     "metadata": {
      "needs_background": "light"
     },
     "output_type": "display_data"
    }
   ],
   "source": [
    "# Plot the training curve\n",
    "n_epochs = len(history.history['loss'])\n",
    "\n",
    "plt.plot(range(1,n_epochs+1), history.history['loss'], label='loss')\n",
    "plt.plot(range(1,n_epochs+1), history.history['val_loss'], label='val_loss')\n",
    "plt.legend()\n",
    "plt.grid()\n",
    "plt.xlabel('Epoch')\n",
    "plt.show()"
   ]
  },
  {
   "cell_type": "code",
   "execution_count": 95,
   "metadata": {},
   "outputs": [
    {
     "data": {
      "text/plain": [
       "[0.014108482998822416,\n",
       " 0.010695718221792152,\n",
       " 0.009737696454993316,\n",
       " 0.009054875775533064,\n",
       " 0.008479869813365596,\n",
       " 0.008625181156183992,\n",
       " 0.00793350370994636,\n",
       " 0.007883210266700812,\n",
       " 0.007853799852515969,\n",
       " 0.007513558263438088,\n",
       " 0.0077044659667781425,\n",
       " 0.0077568745344877245]"
      ]
     },
     "execution_count": 95,
     "metadata": {},
     "output_type": "execute_result"
    }
   ],
   "source": [
    "history.history['val_loss']"
   ]
  },
  {
   "cell_type": "code",
   "execution_count": 37,
   "metadata": {},
   "outputs": [
    {
     "name": "stdout",
     "output_type": "stream",
     "text": [
      "WARNING:tensorflow:From /Users/philippmarcus/udacity/machine-learning/15_autoencoders/condaenv/lib/python3.6/site-packages/tensorflow_core/python/ops/resource_variable_ops.py:1781: calling BaseResourceVariable.__init__ (from tensorflow.python.ops.resource_variable_ops) with constraint is deprecated and will be removed in a future version.\n",
      "Instructions for updating:\n",
      "If using Keras pass *_constraint arguments to layers.\n",
      "INFO:tensorflow:Assets written to: ./models/autoencoder/assets\n"
     ]
    }
   ],
   "source": [
    "keras.models.save_model(autoencoder, './models/autoencoder')"
   ]
  },
  {
   "cell_type": "code",
   "execution_count": 38,
   "metadata": {},
   "outputs": [
    {
     "name": "stdout",
     "output_type": "stream",
     "text": [
      "INFO:tensorflow:Assets written to: ./models/encoder/assets\n"
     ]
    }
   ],
   "source": [
    "keras.models.save_model(encoder, './models/encoder')"
   ]
  },
  {
   "cell_type": "markdown",
   "metadata": {},
   "source": [
    "#### Visualize the reconstruction error on the trained model\n",
    "\n",
    "Here, the Gaussian Noise is still turned on."
   ]
  },
  {
   "cell_type": "code",
   "execution_count": 39,
   "metadata": {},
   "outputs": [],
   "source": [
    "%matplotlib inline\n",
    "import matplotlib.pyplot as plt"
   ]
  },
  {
   "cell_type": "code",
   "execution_count": 76,
   "metadata": {},
   "outputs": [],
   "source": [
    "def plot_results(y_trues, y_preds):\n",
    "    \"\"\"\n",
    "    Creates a plot to compare the original and the reconstructed image.\n",
    "    INPUT:\n",
    "        y_trues: array of 28x28 original MNIST images\n",
    "        y_preds: array of 28x28 reconstructed MNIST images\n",
    "    OUTPUT:\n",
    "        NONE:\n",
    "    \"\"\"\n",
    "    assert len(y_trues) == len(y_preds)\n",
    "\n",
    "    fig = plt.figure(figsize=(20,3))\n",
    "    columns = len(y_preds)\n",
    "    rows = 2\n",
    "\n",
    "    \n",
    "    # Plot ground truth images\n",
    "    for i, img in enumerate(y_trues):\n",
    "        fig.add_subplot(rows, columns, 1+i)\n",
    "        plt.imshow(img, cmap='gray')\n",
    "        plt.axis('off')\n",
    "        \n",
    "    # Plot predicted images\n",
    "    for j, img in enumerate(y_preds):\n",
    "        fig.add_subplot(rows, columns, 1+len(y_trues) + j)\n",
    "        plt.imshow(img, cmap='gray')\n",
    "        plt.axis('off')\n",
    "    \n",
    "    plt.show()"
   ]
  },
  {
   "cell_type": "code",
   "execution_count": 74,
   "metadata": {},
   "outputs": [],
   "source": [
    "n_predictions = 20\n",
    "\n",
    "y_preds = autoencoder.predict(X_train[:n_predictions]).reshape((-1,28,28))\n",
    "y_trues = X_train[:n_predictions].reshape((-1,28,28))"
   ]
  },
  {
   "cell_type": "code",
   "execution_count": 75,
   "metadata": {},
   "outputs": [
    {
     "data": {
      "image/png": "[encoded data removed]",
      "text/plain": [
       "<Figure size 1440x216 with 40 Axes>"
      ]
     },
     "metadata": {
      "needs_background": "light"
     },
     "output_type": "display_data"
    }
   ],
   "source": [
    "plot_results(y_trues, y_preds)"
   ]
  },
  {
   "cell_type": "markdown",
   "metadata": {},
   "source": [
    "### Create the encoder model without Gaussian noise\n",
    "\n",
    "This model will be used by the image classifier."
   ]
  },
  {
   "cell_type": "code",
   "execution_count": 80,
   "metadata": {},
   "outputs": [
    {
     "name": "stdout",
     "output_type": "stream",
     "text": [
      "Model: \"model_7\"\n",
      "_________________________________________________________________\n",
      "Layer (type)                 Output Shape              Param #   \n",
      "=================================================================\n",
      "input_8 (InputLayer)         [(None, 784)]             0         \n",
      "_________________________________________________________________\n",
      "gaussian_noise_4 (GaussianNo (None, 784)               0         \n",
      "_________________________________________________________________\n",
      "dense_16 (Dense)             (None, 300)               235500    \n",
      "_________________________________________________________________\n",
      "dense_17 (Dense)             (None, 150)               45150     \n",
      "=================================================================\n",
      "Total params: 280,650\n",
      "Trainable params: 280,650\n",
      "Non-trainable params: 0\n",
      "_________________________________________________________________\n",
      "Model: \"model_6\"\n",
      "_________________________________________________________________\n",
      "Layer (type)                 Output Shape              Param #   \n",
      "=================================================================\n",
      "input_8 (InputLayer)         [(None, 784)]             0         \n",
      "_________________________________________________________________\n",
      "gaussian_noise_4 (GaussianNo (None, 784)               0         \n",
      "_________________________________________________________________\n",
      "dense_16 (Dense)             (None, 300)               235500    \n",
      "_________________________________________________________________\n",
      "dense_17 (Dense)             (None, 150)               45150     \n",
      "_________________________________________________________________\n",
      "dense_18 (Dense)             (None, 300)               45300     \n",
      "_________________________________________________________________\n",
      "dense_19 (Dense)             (None, 784)               235984    \n",
      "=================================================================\n",
      "Total params: 561,934\n",
      "Trainable params: 561,934\n",
      "Non-trainable params: 0\n",
      "_________________________________________________________________\n"
     ]
    }
   ],
   "source": [
    "# Create a new instance of the encoder with turned off Gaussian noise\n",
    "prod_encoder, prod_autoencoder = get_denoising_autoencoder(training=False)\n",
    "\n",
    "# Copy the weights from the trained encoder\n",
    "prod_encoder.set_weights(encoder.get_weights())\n",
    "prod_autoencoder.set_weights(autoencoder.get_weights())\n",
    "\n",
    "# Print a summary\n",
    "prod_encoder.summary()\n",
    "prod_autoencoder.summary()"
   ]
  },
  {
   "cell_type": "markdown",
   "metadata": {},
   "source": [
    "Create predictions with the productive deep autoencoder (Gaussian noise turned off)."
   ]
  },
  {
   "cell_type": "code",
   "execution_count": 81,
   "metadata": {},
   "outputs": [
    {
     "data": {
      "image/png": "[encoded data removed]",
      "text/plain": [
       "<Figure size 1440x216 with 40 Axes>"
      ]
     },
     "metadata": {
      "needs_background": "light"
     },
     "output_type": "display_data"
    }
   ],
   "source": [
    "n_predictions = 20\n",
    "\n",
    "y_preds = prod_autoencoder.predict(X_train[:n_predictions]).reshape((-1,28,28))\n",
    "y_trues = X_train[:n_predictions].reshape((-1,28,28))\n",
    "\n",
    "plot_results(y_trues, y_preds)"
   ]
  },
  {
   "cell_type": "markdown",
   "metadata": {},
   "source": [
    "Obviously, the images loose sharpness when being reconstructed by the autoencoder."
   ]
  }
 ],
 "metadata": {
  "kernelspec": {
   "display_name": "Python 3",
   "language": "python",
   "name": "python3"
  },
  "language_info": {
   "codemirror_mode": {
    "name": "ipython",
    "version": 3
   },
   "file_extension": ".py",
   "mimetype": "text/x-python",
   "name": "python",
   "nbconvert_exporter": "python",
   "pygments_lexer": "ipython3",
   "version": "3.6.10"
  }
 },
 "nbformat": 4,
 "nbformat_minor": 4
}
