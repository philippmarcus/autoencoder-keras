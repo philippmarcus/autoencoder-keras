{
 "cells": [
  {
   "cell_type": "markdown",
   "metadata": {},
   "source": [
    "# Deep AutoEncoders as Pre-Training for Image Classifiers\n",
    "\n",
    "This network demonstrates the usage of a deep autoencoder for pre-training of an image classifier. The reduction of trraining time and the quality of the results are compared."
   ]
  },
  {
   "cell_type": "code",
   "execution_count": 3,
   "metadata": {},
   "outputs": [],
   "source": [
    "import tensorflow as tf\n",
    "from tensorflow import keras\n",
    "from tensorflow.keras import layers\n",
    "\n",
    "import pandas as pd\n",
    "import numpy as np\n",
    "\n",
    "from sklearn.model_selection import train_test_split\n",
    "from sklearn.datasets import fetch_openml"
   ]
  },
  {
   "cell_type": "markdown",
   "metadata": {},
   "source": [
    "## Load the MNIST Dataset"
   ]
  },
  {
   "cell_type": "code",
   "execution_count": 12,
   "metadata": {},
   "outputs": [],
   "source": [
    "data = fetch_openml('mnist_784', data_home='./data/mnist/')"
   ]
  },
  {
   "cell_type": "code",
   "execution_count": 83,
   "metadata": {},
   "outputs": [
    {
     "name": "stdout",
     "output_type": "stream",
     "text": [
      "Loaded overall 70000 images with 784 features per image.\n"
     ]
    }
   ],
   "source": [
    "X = data['data']\n",
    "y = data['target']\n",
    "\n",
    "print(\"Loaded overall {} images with {} features per image.\".format(X.shape[0], X.shape[1]))"
   ]
  },
  {
   "cell_type": "markdown",
   "metadata": {},
   "source": [
    "## Prepare the data\n",
    "\n",
    "The data is normalized by the maximum pixel value. This step could by using the Keras `ImageDataGenerator` class."
   ]
  },
  {
   "cell_type": "code",
   "execution_count": 84,
   "metadata": {},
   "outputs": [],
   "source": [
    "# Normalize the data\n",
    "X = X.astype('float32') / 255."
   ]
  },
  {
   "cell_type": "markdown",
   "metadata": {},
   "source": [
    "## Train/Test Split"
   ]
  },
  {
   "cell_type": "code",
   "execution_count": 85,
   "metadata": {},
   "outputs": [],
   "source": [
    "X_train, X_test, y_train, y_test = train_test_split(X, y, random_state=42)"
   ]
  },
  {
   "cell_type": "code",
   "execution_count": 87,
   "metadata": {},
   "outputs": [
    {
     "name": "stdout",
     "output_type": "stream",
     "text": [
      "Woring with 52500 training images and 17500 test images.\n"
     ]
    }
   ],
   "source": [
    "print(\"Woring with {} training images and {} test images.\".format(len(X_train), len(X_test)))"
   ]
  },
  {
   "cell_type": "markdown",
   "metadata": {},
   "source": [
    "## Deep Denoising Autoencoder\n",
    "\n",
    "In this section, first a deep denoising autoencoder is built and trained. A production model is initialized that does not add Gaussian noise and uses the weights derived during training of the first model."
   ]
  },
  {
   "cell_type": "markdown",
   "metadata": {},
   "source": [
    "\n",
    "### Define and train the deep denoising autoencoder"
   ]
  },
  {
   "cell_type": "code",
   "execution_count": 150,
   "metadata": {},
   "outputs": [],
   "source": [
    "def get_denoising_autoencoder(training=True):\n",
    "    \"\"\"\n",
    "    Returns a deep denoising autoencoder model.\n",
    "    INPUT:\n",
    "        training (boolean): if true, Gaussian noise is applied.\n",
    "    OUTPUT:\n",
    "        encoder: Keras model for the encoder\n",
    "        autoencoder: Keras model for the autoencoder\n",
    "    \"\"\"\n",
    "    n_inputs = 28 * 28 # MNIST\n",
    "    encoding_dim_1 = 196\n",
    "    encoding_dim_2 = 49\n",
    "    decoding_dim_1 = encoding_dim_2\n",
    "    decoding_dim_2 = encoding_dim_1\n",
    "\n",
    "    # Input layer\n",
    "    inputs = layers.Input(shape=(n_inputs,))\n",
    "\n",
    "    # Add a Gaussian Noise Layer\n",
    "    inputs_noisy = layers.GaussianNoise(stddev=0.1)(inputs, training=training)\n",
    "\n",
    "    # Build the Encoder\n",
    "    encoded_1 = layers.Dense(encoding_dim_1, activation='relu')(inputs_noisy) # 784 -> 300\n",
    "    encoded_2 = layers.Dense(encoding_dim_2, activation='relu')(encoded_1) # 300 -> 150\n",
    "\n",
    "    # Build the Decoder\n",
    "    decoded_1 = layers.Dense(encoding_dim_1, activation='relu')(encoded_2) # 150 -> 300\n",
    "    decoded_2 = layers.Dense(n_inputs, activation='relu')(decoded_1) # 300 -> 784\n",
    "\n",
    "    # Define the Models\n",
    "    autoencoder = keras.Model(inputs, decoded_2)\n",
    "    encoder = keras.Model(inputs, encoded_2)\n",
    "    \n",
    "    return encoder, autoencoder"
   ]
  },
  {
   "cell_type": "markdown",
   "metadata": {},
   "source": [
    "#### Create the autoencoder model for training"
   ]
  },
  {
   "cell_type": "code",
   "execution_count": 151,
   "metadata": {},
   "outputs": [],
   "source": [
    "encoder, autoencoder = get_denoising_autoencoder(training=True)"
   ]
  },
  {
   "cell_type": "code",
   "execution_count": 152,
   "metadata": {},
   "outputs": [
    {
     "name": "stdout",
     "output_type": "stream",
     "text": [
      "Model: \"model_10\"\n",
      "_________________________________________________________________\n",
      "Layer (type)                 Output Shape              Param #   \n",
      "=================================================================\n",
      "input_10 (InputLayer)        [(None, 784)]             0         \n",
      "_________________________________________________________________\n",
      "gaussian_noise_6 (GaussianNo (None, 784)               0         \n",
      "_________________________________________________________________\n",
      "dense_24 (Dense)             (None, 196)               153860    \n",
      "_________________________________________________________________\n",
      "dense_25 (Dense)             (None, 49)                9653      \n",
      "_________________________________________________________________\n",
      "dense_26 (Dense)             (None, 196)               9800      \n",
      "_________________________________________________________________\n",
      "dense_27 (Dense)             (None, 784)               154448    \n",
      "=================================================================\n",
      "Total params: 327,761\n",
      "Trainable params: 327,761\n",
      "Non-trainable params: 0\n",
      "_________________________________________________________________\n"
     ]
    }
   ],
   "source": [
    "autoencoder.summary()"
   ]
  },
  {
   "cell_type": "code",
   "execution_count": 153,
   "metadata": {},
   "outputs": [
    {
     "name": "stdout",
     "output_type": "stream",
     "text": [
      "Model: \"model_11\"\n",
      "_________________________________________________________________\n",
      "Layer (type)                 Output Shape              Param #   \n",
      "=================================================================\n",
      "input_10 (InputLayer)        [(None, 784)]             0         \n",
      "_________________________________________________________________\n",
      "gaussian_noise_6 (GaussianNo (None, 784)               0         \n",
      "_________________________________________________________________\n",
      "dense_24 (Dense)             (None, 196)               153860    \n",
      "_________________________________________________________________\n",
      "dense_25 (Dense)             (None, 49)                9653      \n",
      "=================================================================\n",
      "Total params: 163,513\n",
      "Trainable params: 163,513\n",
      "Non-trainable params: 0\n",
      "_________________________________________________________________\n"
     ]
    }
   ],
   "source": [
    "encoder.summary()"
   ]
  },
  {
   "cell_type": "code",
   "execution_count": 154,
   "metadata": {},
   "outputs": [],
   "source": [
    "# Compile the model\n",
    "\n",
    "opt = keras.optimizers.Adadelta(learning_rate=0.01)\n",
    "autoencoder.compile(optimizer='Adam',\n",
    "                      loss='MSE')"
   ]
  },
  {
   "cell_type": "code",
   "execution_count": 155,
   "metadata": {},
   "outputs": [
    {
     "name": "stdout",
     "output_type": "stream",
     "text": [
      "Train on 52500 samples, validate on 17500 samples\n",
      "Epoch 1/20\n",
      "52500/52500 [==============================] - 4s 69us/sample - loss: 0.0324 - val_loss: 0.0172\n",
      "Epoch 2/20\n",
      "52500/52500 [==============================] - 3s 56us/sample - loss: 0.0148 - val_loss: 0.0138\n",
      "Epoch 3/20\n",
      "52500/52500 [==============================] - 3s 60us/sample - loss: 0.0128 - val_loss: 0.0133\n",
      "Epoch 4/20\n",
      "52500/52500 [==============================] - 3s 62us/sample - loss: 0.0119 - val_loss: 0.0121\n",
      "Epoch 5/20\n",
      "52500/52500 [==============================] - 3s 62us/sample - loss: 0.0115 - val_loss: 0.0117\n",
      "Epoch 6/20\n",
      "52500/52500 [==============================] - 3s 60us/sample - loss: 0.0111 - val_loss: 0.0114\n",
      "Epoch 7/20\n",
      "52500/52500 [==============================] - 3s 60us/sample - loss: 0.0108 - val_loss: 0.0112\n",
      "Epoch 8/20\n",
      "52500/52500 [==============================] - 3s 60us/sample - loss: 0.0106 - val_loss: 0.0113\n",
      "Epoch 9/20\n",
      "52500/52500 [==============================] - 3s 61us/sample - loss: 0.0104 - val_loss: 0.0106\n",
      "Epoch 10/20\n",
      "52500/52500 [==============================] - 3s 61us/sample - loss: 0.0102 - val_loss: 0.0106\n",
      "Epoch 11/20\n",
      "52500/52500 [==============================] - 3s 62us/sample - loss: 0.0101 - val_loss: 0.0107\n",
      "Epoch 12/20\n",
      "52500/52500 [==============================] - 3s 62us/sample - loss: 0.0099 - val_loss: 0.0104\n",
      "Epoch 13/20\n",
      "52500/52500 [==============================] - 3s 62us/sample - loss: 0.0098 - val_loss: 0.0102\n",
      "Epoch 14/20\n",
      "52500/52500 [==============================] - 3s 64us/sample - loss: 0.0097 - val_loss: 0.0103\n",
      "Epoch 15/20\n",
      "52500/52500 [==============================] - 3s 66us/sample - loss: 0.0097 - val_loss: 0.0101\n",
      "Epoch 16/20\n",
      "52500/52500 [==============================] - 3s 65us/sample - loss: 0.0096 - val_loss: 0.0099\n",
      "Epoch 17/20\n",
      "52500/52500 [==============================] - 3s 67us/sample - loss: 0.0095 - val_loss: 0.0098\n",
      "Epoch 18/20\n",
      "52500/52500 [==============================] - 4s 69us/sample - loss: 0.0095 - val_loss: 0.0100\n",
      "Epoch 19/20\n",
      "52500/52500 [==============================] - 4s 68us/sample - loss: 0.0095 - val_loss: 0.0102\n"
     ]
    }
   ],
   "source": [
    "# Early stopping\n",
    "es = keras.callbacks.EarlyStopping(monitor='val_loss',\n",
    "                                  min_delta=0,\n",
    "                                  patience=2,\n",
    "                                  verbose=0, mode='auto')\n",
    "\n",
    "# Train the model\n",
    "history = autoencoder.fit(X_train,\n",
    "                    X_train,\n",
    "                    validation_data=(X_test, X_test),\n",
    "                    callbacks=[es],\n",
    "                    shuffle=True,\n",
    "                    epochs=20,\n",
    "                    batch_size=256)"
   ]
  },
  {
   "cell_type": "markdown",
   "metadata": {},
   "source": [
    "#### Plot the training curve"
   ]
  },
  {
   "cell_type": "code",
   "execution_count": 156,
   "metadata": {},
   "outputs": [
    {
     "data": {
      "image/png": "[encoded data removed]",
      "text/plain": [
       "<Figure size 432x288 with 1 Axes>"
      ]
     },
     "metadata": {
      "needs_background": "light"
     },
     "output_type": "display_data"
    }
   ],
   "source": [
    "# Plot the training curve\n",
    "n_epochs = len(history.history['loss'])\n",
    "\n",
    "plt.plot(range(1,n_epochs+1), history.history['loss'], label='loss')\n",
    "plt.plot(range(1,n_epochs+1), history.history['val_loss'], label='val_loss')\n",
    "plt.legend()\n",
    "plt.grid()\n",
    "plt.xlabel('Epoch')\n",
    "plt.show()"
   ]
  },
  {
   "cell_type": "markdown",
   "metadata": {},
   "source": [
    "#### Save the trained autoencoder and encoder"
   ]
  },
  {
   "cell_type": "code",
   "execution_count": 157,
   "metadata": {},
   "outputs": [
    {
     "name": "stdout",
     "output_type": "stream",
     "text": [
      "INFO:tensorflow:Assets written to: ./models/autoencoder/assets\n"
     ]
    }
   ],
   "source": [
    "keras.models.save_model(autoencoder, './models/autoencoder')"
   ]
  },
  {
   "cell_type": "code",
   "execution_count": 158,
   "metadata": {},
   "outputs": [
    {
     "name": "stdout",
     "output_type": "stream",
     "text": [
      "INFO:tensorflow:Assets written to: ./models/encoder/assets\n"
     ]
    }
   ],
   "source": [
    "keras.models.save_model(encoder, './models/encoder')"
   ]
  },
  {
   "cell_type": "markdown",
   "metadata": {},
   "source": [
    "#### Visualize the reconstruction error on the trained model\n",
    "\n",
    "Here, the Gaussian Noise is still turned on."
   ]
  },
  {
   "cell_type": "code",
   "execution_count": 159,
   "metadata": {},
   "outputs": [],
   "source": [
    "%matplotlib inline\n",
    "import matplotlib.pyplot as plt"
   ]
  },
  {
   "cell_type": "code",
   "execution_count": 160,
   "metadata": {},
   "outputs": [],
   "source": [
    "def plot_results(y_trues, y_preds):\n",
    "    \"\"\"\n",
    "    Creates a plot to compare the original and the reconstructed image.\n",
    "    INPUT:\n",
    "        y_trues: array of 28x28 original MNIST images\n",
    "        y_preds: array of 28x28 reconstructed MNIST images\n",
    "    OUTPUT:\n",
    "        NONE:\n",
    "    \"\"\"\n",
    "    assert len(y_trues) == len(y_preds)\n",
    "\n",
    "    fig = plt.figure(figsize=(20,3))\n",
    "    columns = len(y_preds)\n",
    "    rows = 2\n",
    "\n",
    "    \n",
    "    # Plot ground truth images\n",
    "    for i, img in enumerate(y_trues):\n",
    "        fig.add_subplot(rows, columns, 1+i)\n",
    "        plt.imshow(img, cmap='gray')\n",
    "        plt.axis('off')\n",
    "        \n",
    "    # Plot predicted images\n",
    "    for j, img in enumerate(y_preds):\n",
    "        fig.add_subplot(rows, columns, 1+len(y_trues) + j)\n",
    "        plt.imshow(img, cmap='gray')\n",
    "        plt.axis('off')\n",
    "    \n",
    "    plt.show()"
   ]
  },
  {
   "cell_type": "code",
   "execution_count": 161,
   "metadata": {},
   "outputs": [],
   "source": [
    "n_predictions = 20\n",
    "\n",
    "y_preds = autoencoder.predict(X_train[:n_predictions]).reshape((-1,28,28))\n",
    "y_trues = X_train[:n_predictions].reshape((-1,28,28))"
   ]
  },
  {
   "cell_type": "code",
   "execution_count": 162,
   "metadata": {},
   "outputs": [
    {
     "data": {
      "image/png": "[encoded data removed]",
      "text/plain": [
       "<Figure size 1440x216 with 40 Axes>"
      ]
     },
     "metadata": {
      "needs_background": "light"
     },
     "output_type": "display_data"
    }
   ],
   "source": [
    "plot_results(y_trues, y_preds)"
   ]
  },
  {
   "cell_type": "markdown",
   "metadata": {},
   "source": [
    "#### Plot the weights learned by the encoder (latent features)"
   ]
  },
  {
   "cell_type": "code",
   "execution_count": 179,
   "metadata": {},
   "outputs": [],
   "source": [
    "def plot_weights_matrix(model, layer_name, n_neurons):\n",
    "    \"\"\"\n",
    "    Plots the weight matrix of the first `n_neurons` neurons of a layer in the given model.\n",
    "    \n",
    "    The kernel of the given layer has dimensions input_shape x output_shape. We slice this\n",
    "    matrix by the axis of the output_shape and display each of the slices reshaped to a quadratic\n",
    "    picture.\n",
    "    \n",
    "    INPUT:\n",
    "        model: A trained Keras model\n",
    "        layer_name (string): name of the layer whose weight matrix shall be shown\n",
    "        n_neurons (int): number of neurons to be visualized\n",
    "    \"\"\"\n",
    "    kernel_eval = K.eval(model.get_layer(layer_name).kernel)\n",
    "    \n",
    "    # dimension for weight matrix plot\n",
    "    dim = int(np.sqrt(kernel_eval.T[0].shape)[0])\n",
    "    \n",
    "    # plot the first n_neurons neurons\n",
    "    fig = plt.figure(figsize=(n_neurons, 4))\n",
    "    for i in range(n_neurons):\n",
    "        plt.subplot(1, n_neurons, i + 1)\n",
    "        plt.imshow(kernel_eval.T[i].reshape(dim, dim), cmap='gray')\n",
    "        plt.axis('off')\n",
    "    plt.show()"
   ]
  },
  {
   "cell_type": "code",
   "execution_count": 177,
   "metadata": {},
   "outputs": [
    {
     "data": {
      "image/png": "[encoded data removed]",
      "text/plain": [
       "<Figure size 720x288 with 10 Axes>"
      ]
     },
     "metadata": {
      "needs_background": "light"
     },
     "output_type": "display_data"
    }
   ],
   "source": [
    "# Visualize some learned features of the first encoding layer\n",
    "plot_weights_matrix(autoencoder, 'dense_24', 10)"
   ]
  },
  {
   "cell_type": "code",
   "execution_count": 178,
   "metadata": {},
   "outputs": [
    {
     "data": {
      "image/png": "[encoded data removed]",
      "text/plain": [
       "<Figure size 720x288 with 10 Axes>"
      ]
     },
     "metadata": {
      "needs_background": "light"
     },
     "output_type": "display_data"
    }
   ],
   "source": [
    "# Visualize some learned features of the second encoding layer\n",
    "plot_weights_matrix(autoencoder, 'dense_25', 10)"
   ]
  },
  {
   "cell_type": "markdown",
   "metadata": {},
   "source": [
    "### Create the productive encoder model without Gaussian noise\n",
    "\n",
    "This model will be used by the image classifier."
   ]
  },
  {
   "cell_type": "code",
   "execution_count": 80,
   "metadata": {},
   "outputs": [
    {
     "name": "stdout",
     "output_type": "stream",
     "text": [
      "Model: \"model_7\"\n",
      "_________________________________________________________________\n",
      "Layer (type)                 Output Shape              Param #   \n",
      "=================================================================\n",
      "input_8 (InputLayer)         [(None, 784)]             0         \n",
      "_________________________________________________________________\n",
      "gaussian_noise_4 (GaussianNo (None, 784)               0         \n",
      "_________________________________________________________________\n",
      "dense_16 (Dense)             (None, 300)               235500    \n",
      "_________________________________________________________________\n",
      "dense_17 (Dense)             (None, 150)               45150     \n",
      "=================================================================\n",
      "Total params: 280,650\n",
      "Trainable params: 280,650\n",
      "Non-trainable params: 0\n",
      "_________________________________________________________________\n",
      "Model: \"model_6\"\n",
      "_________________________________________________________________\n",
      "Layer (type)                 Output Shape              Param #   \n",
      "=================================================================\n",
      "input_8 (InputLayer)         [(None, 784)]             0         \n",
      "_________________________________________________________________\n",
      "gaussian_noise_4 (GaussianNo (None, 784)               0         \n",
      "_________________________________________________________________\n",
      "dense_16 (Dense)             (None, 300)               235500    \n",
      "_________________________________________________________________\n",
      "dense_17 (Dense)             (None, 150)               45150     \n",
      "_________________________________________________________________\n",
      "dense_18 (Dense)             (None, 300)               45300     \n",
      "_________________________________________________________________\n",
      "dense_19 (Dense)             (None, 784)               235984    \n",
      "=================================================================\n",
      "Total params: 561,934\n",
      "Trainable params: 561,934\n",
      "Non-trainable params: 0\n",
      "_________________________________________________________________\n"
     ]
    }
   ],
   "source": [
    "# Create a new instance of the encoder with turned off Gaussian noise\n",
    "prod_encoder, prod_autoencoder = get_denoising_autoencoder(training=False)\n",
    "\n",
    "# Copy the weights from the trained encoder\n",
    "prod_encoder.set_weights(encoder.get_weights())\n",
    "prod_autoencoder.set_weights(autoencoder.get_weights())\n",
    "\n",
    "# Print a summary\n",
    "prod_encoder.summary()\n",
    "prod_autoencoder.summary()"
   ]
  },
  {
   "cell_type": "markdown",
   "metadata": {},
   "source": [
    "Create predictions with the productive deep autoencoder (Gaussian noise turned off)."
   ]
  },
  {
   "cell_type": "code",
   "execution_count": 81,
   "metadata": {},
   "outputs": [
    {
     "data": {
      "image/png": "[encoded data removed]",
      "text/plain": [
       "<Figure size 1440x216 with 40 Axes>"
      ]
     },
     "metadata": {
      "needs_background": "light"
     },
     "output_type": "display_data"
    }
   ],
   "source": [
    "n_predictions = 20\n",
    "\n",
    "y_preds = prod_autoencoder.predict(X_train[:n_predictions]).reshape((-1,28,28))\n",
    "y_trues = X_train[:n_predictions].reshape((-1,28,28))\n",
    "\n",
    "plot_results(y_trues, y_preds)"
   ]
  },
  {
   "cell_type": "markdown",
   "metadata": {},
   "source": [
    "Obviously, the images loose sharpness when being reconstructed by the autoencoder."
   ]
  }
 ],
 "metadata": {
  "kernelspec": {
   "display_name": "Python 3",
   "language": "python",
   "name": "python3"
  },
  "language_info": {
   "codemirror_mode": {
    "name": "ipython",
    "version": 3
   },
   "file_extension": ".py",
   "mimetype": "text/x-python",
   "name": "python",
   "nbconvert_exporter": "python",
   "pygments_lexer": "ipython3",
   "version": "3.6.10"
  }
 },
 "nbformat": 4,
 "nbformat_minor": 4
}
